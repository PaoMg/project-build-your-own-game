{
 "cells": [
  {
   "cell_type": "code",
   "execution_count": 7,
   "metadata": {},
   "outputs": [
    {
     "name": "stdout",
     "output_type": "stream",
     "text": [
      "['Harry', 'Hermione', 'Ron', 'Dumbledore', 'Luna', 'Snape', 'Tonks', 'Lupin']\n",
      "Dumbledore\n"
     ]
    }
   ],
   "source": [
    "import random\n",
    "#diccionario={'a':{'casa':'6','perro':'3'},'b':{'casa':'4','perro':'0'},'c':{'casa':'4','perro':'3'}}\n",
    "\n",
    "diccionario_personajes = {\n",
    "        'Harry': {'casa':'gryffindor', 'patronus':'ciervo', 'gender':'male'},\n",
    "        'Hermione': {'casa': 'gryffindor', 'patronus': 'nutria', 'gender':'female'},\n",
    "        'Ron': {'casa': 'gryffindor', 'patronus': 'perro', 'gender':'male'},\n",
    "        'Dumbledore': {'casa': 'gryffindor', 'patronus': 'fenix', 'gender':'male'},\n",
    "        'Luna': {'casa': 'ravenclaw', 'patronus': 'liebre', 'gender': 'female'},\n",
    "        'Snape': {'casa': 'slytherin', 'patronus': 'cierva', 'gender': 'male'},\n",
    "        'Tonks': {'casa': 'hufflepuff', 'patronus': 'lobo', 'gender': 'female'},\n",
    "        'Lupin': {'casa': 'gryffindor', 'patronus': 'lobo', 'gender': 'male'}\n",
    "    \n",
    "    }\n",
    "\n",
    "personajes=list(diccionario_personajes.keys())\n",
    "print(personajes)\n",
    "\n",
    "todos_generos=['male','female']\n",
    "todas_casas=['gryffindor','slytherin','ravenclaw','hufflepuff']\n",
    "todos_patronus=['ciervo','nutria','perro','liebre','cierva','fenix','lobo']\n",
    "\n",
    "secret_character = random.choice(list(diccionario_personajes.keys()))\n",
    "print(secret_character)\n",
    "\n",
    "tries = 0\n",
    "guessed = False\n",
    "\n",
    "\n",
    "#secreto='b'"
   ]
  },
  {
   "cell_type": "code",
   "execution_count": 8,
   "metadata": {},
   "outputs": [],
   "source": [
    "def adivinar_per(personajes,secreto):\n",
    "    print('Opciones',personajes)\n",
    "    if input()==secreto:\n",
    "        print('Ganaste')\n",
    "    else:\n",
    "        print('Pierdes')"
   ]
  },
  {
   "cell_type": "code",
   "execution_count": 9,
   "metadata": {},
   "outputs": [],
   "source": [
    "def adivinar_genero(personajes,genero):\n",
    "    print('Opciones',todos_generos)\n",
    "    print('Elige el género del personaje')\n",
    "    if input()==genero:\n",
    "        print('genero correcto')\n",
    "        return print([pers for pers in personajes if diccionario_personajes[pers]['gender']==genero])\n",
    "    else:\n",
    "        print('genero incorrecto')\n",
    "        return personajes"
   ]
  },
  {
   "cell_type": "code",
   "execution_count": 10,
   "metadata": {},
   "outputs": [],
   "source": [
    "def adivinar_casa(personajes,casa):\n",
    "    print('Opciones',todas_casas)\n",
    "    print('Elige la casa del personaje')\n",
    "    if input()==casa:\n",
    "        print('Casa correcta')\n",
    "        return print([pers for pers in personajes if diccionario_personajes[pers]['casa']==casa])\n",
    "    else:\n",
    "        print('Casa erronea')\n",
    "        return personajes"
   ]
  },
  {
   "cell_type": "code",
   "execution_count": 11,
   "metadata": {},
   "outputs": [],
   "source": [
    "def adivinar_patronus(personajes,patronus):\n",
    "    print('Opciones',todos_patronus)\n",
    "    print('Elige el patronus del personaje')\n",
    "    if input()==patronus:\n",
    "        print('Patronus correcto')\n",
    "        return print([pers for pers in personajes if diccionario_personajes[pers]['patronus']==patronus])\n",
    "    else:\n",
    "        print('Patronus erroneo')\n",
    "        return personajes"
   ]
  },
  {
   "cell_type": "code",
   "execution_count": 12,
   "metadata": {},
   "outputs": [
    {
     "name": "stdout",
     "output_type": "stream",
     "text": [
      "¿Que quieres hacer? \n",
      " elige un número:\n",
      "1. Adivinar el personaje\n",
      "2. Adivinar su género\n",
      "3. Adivinar su casa\n",
      "4. Adivinar su patronus\n",
      "2\n",
      "Opciones ['male', 'female']\n",
      "Elige el género del personaje\n",
      "male\n",
      "genero correcto\n",
      "['Harry', 'Ron', 'Dumbledore', 'Snape', 'Lupin']\n",
      "¿Que quieres hacer? \n",
      " elige un número:\n",
      "1. Adivinar el personaje\n",
      "2. Adivinar su género\n",
      "3. Adivinar su casa\n",
      "4. Adivinar su patronus\n",
      "3\n",
      "Opciones ['gryffindor', 'slytherin', 'ravenclaw', 'hufflepuff']\n",
      "Elige la casa del personaje\n",
      "slytherin\n",
      "Casa erronea\n",
      "¿Que quieres hacer? \n",
      " elige un número:\n",
      "1. Adivinar el personaje\n",
      "2. Adivinar su género\n",
      "3. Adivinar su casa\n",
      "4. Adivinar su patronus\n",
      "2\n",
      "Opciones ['male', 'female']\n",
      "Elige el género del personaje\n",
      "male\n",
      "genero correcto\n",
      "['Harry', 'Ron', 'Dumbledore', 'Snape', 'Lupin']\n",
      "¿Que quieres hacer? \n",
      " elige un número:\n",
      "1. Adivinar el personaje\n",
      "2. Adivinar su género\n",
      "3. Adivinar su casa\n",
      "4. Adivinar su patronus\n",
      "3\n",
      "Opciones ['gryffindor', 'slytherin', 'ravenclaw', 'hufflepuff']\n",
      "Elige la casa del personaje\n",
      "gryffindor\n",
      "Casa correcta\n",
      "['Harry', 'Hermione', 'Ron', 'Dumbledore', 'Lupin']\n",
      "¿Que quieres hacer? \n",
      " elige un número:\n",
      "1. Adivinar el personaje\n",
      "2. Adivinar su género\n",
      "3. Adivinar su casa\n",
      "4. Adivinar su patronus\n"
     ]
    },
    {
     "ename": "KeyboardInterrupt",
     "evalue": "",
     "output_type": "error",
     "traceback": [
      "\u001b[0;31m---------------------------------------------------------------------------\u001b[0m",
      "\u001b[0;31mKeyboardInterrupt\u001b[0m                         Traceback (most recent call last)",
      "\u001b[0;32m/Library/Frameworks/Python.framework/Versions/3.8/lib/python3.8/site-packages/ipykernel/kernelbase.py\u001b[0m in \u001b[0;36m_input_request\u001b[0;34m(self, prompt, ident, parent, password)\u001b[0m\n\u001b[1;32m    883\u001b[0m             \u001b[0;32mtry\u001b[0m\u001b[0;34m:\u001b[0m\u001b[0;34m\u001b[0m\u001b[0;34m\u001b[0m\u001b[0m\n\u001b[0;32m--> 884\u001b[0;31m                 \u001b[0mident\u001b[0m\u001b[0;34m,\u001b[0m \u001b[0mreply\u001b[0m \u001b[0;34m=\u001b[0m \u001b[0mself\u001b[0m\u001b[0;34m.\u001b[0m\u001b[0msession\u001b[0m\u001b[0;34m.\u001b[0m\u001b[0mrecv\u001b[0m\u001b[0;34m(\u001b[0m\u001b[0mself\u001b[0m\u001b[0;34m.\u001b[0m\u001b[0mstdin_socket\u001b[0m\u001b[0;34m,\u001b[0m \u001b[0;36m0\u001b[0m\u001b[0;34m)\u001b[0m\u001b[0;34m\u001b[0m\u001b[0;34m\u001b[0m\u001b[0m\n\u001b[0m\u001b[1;32m    885\u001b[0m             \u001b[0;32mexcept\u001b[0m \u001b[0mException\u001b[0m\u001b[0;34m:\u001b[0m\u001b[0;34m\u001b[0m\u001b[0;34m\u001b[0m\u001b[0m\n",
      "\u001b[0;32m/Library/Frameworks/Python.framework/Versions/3.8/lib/python3.8/site-packages/jupyter_client/session.py\u001b[0m in \u001b[0;36mrecv\u001b[0;34m(self, socket, mode, content, copy)\u001b[0m\n\u001b[1;32m    812\u001b[0m         \u001b[0;32mtry\u001b[0m\u001b[0;34m:\u001b[0m\u001b[0;34m\u001b[0m\u001b[0;34m\u001b[0m\u001b[0m\n\u001b[0;32m--> 813\u001b[0;31m             \u001b[0mmsg_list\u001b[0m \u001b[0;34m=\u001b[0m \u001b[0msocket\u001b[0m\u001b[0;34m.\u001b[0m\u001b[0mrecv_multipart\u001b[0m\u001b[0;34m(\u001b[0m\u001b[0mmode\u001b[0m\u001b[0;34m,\u001b[0m \u001b[0mcopy\u001b[0m\u001b[0;34m=\u001b[0m\u001b[0mcopy\u001b[0m\u001b[0;34m)\u001b[0m\u001b[0;34m\u001b[0m\u001b[0;34m\u001b[0m\u001b[0m\n\u001b[0m\u001b[1;32m    814\u001b[0m         \u001b[0;32mexcept\u001b[0m \u001b[0mzmq\u001b[0m\u001b[0;34m.\u001b[0m\u001b[0mZMQError\u001b[0m \u001b[0;32mas\u001b[0m \u001b[0me\u001b[0m\u001b[0;34m:\u001b[0m\u001b[0;34m\u001b[0m\u001b[0;34m\u001b[0m\u001b[0m\n",
      "\u001b[0;32m/Library/Frameworks/Python.framework/Versions/3.8/lib/python3.8/site-packages/zmq/sugar/socket.py\u001b[0m in \u001b[0;36mrecv_multipart\u001b[0;34m(self, flags, copy, track)\u001b[0m\n\u001b[1;32m    474\u001b[0m         \"\"\"\n\u001b[0;32m--> 475\u001b[0;31m         \u001b[0mparts\u001b[0m \u001b[0;34m=\u001b[0m \u001b[0;34m[\u001b[0m\u001b[0mself\u001b[0m\u001b[0;34m.\u001b[0m\u001b[0mrecv\u001b[0m\u001b[0;34m(\u001b[0m\u001b[0mflags\u001b[0m\u001b[0;34m,\u001b[0m \u001b[0mcopy\u001b[0m\u001b[0;34m=\u001b[0m\u001b[0mcopy\u001b[0m\u001b[0;34m,\u001b[0m \u001b[0mtrack\u001b[0m\u001b[0;34m=\u001b[0m\u001b[0mtrack\u001b[0m\u001b[0;34m)\u001b[0m\u001b[0;34m]\u001b[0m\u001b[0;34m\u001b[0m\u001b[0;34m\u001b[0m\u001b[0m\n\u001b[0m\u001b[1;32m    476\u001b[0m         \u001b[0;31m# have first part already, only loop while more to receive\u001b[0m\u001b[0;34m\u001b[0m\u001b[0;34m\u001b[0m\u001b[0;34m\u001b[0m\u001b[0m\n",
      "\u001b[0;32mzmq/backend/cython/socket.pyx\u001b[0m in \u001b[0;36mzmq.backend.cython.socket.Socket.recv\u001b[0;34m()\u001b[0m\n",
      "\u001b[0;32mzmq/backend/cython/socket.pyx\u001b[0m in \u001b[0;36mzmq.backend.cython.socket.Socket.recv\u001b[0;34m()\u001b[0m\n",
      "\u001b[0;32mzmq/backend/cython/socket.pyx\u001b[0m in \u001b[0;36mzmq.backend.cython.socket._recv_copy\u001b[0;34m()\u001b[0m\n",
      "\u001b[0;32m/Library/Frameworks/Python.framework/Versions/3.8/lib/python3.8/site-packages/zmq/backend/cython/checkrc.pxd\u001b[0m in \u001b[0;36mzmq.backend.cython.checkrc._check_rc\u001b[0;34m()\u001b[0m\n",
      "\u001b[0;31mKeyboardInterrupt\u001b[0m: ",
      "\nDuring handling of the above exception, another exception occurred:\n",
      "\u001b[0;31mKeyboardInterrupt\u001b[0m                         Traceback (most recent call last)",
      "\u001b[0;32m<ipython-input-12-43e2e3f713df>\u001b[0m in \u001b[0;36m<module>\u001b[0;34m\u001b[0m\n\u001b[1;32m      6\u001b[0m     \u001b[0mprint\u001b[0m\u001b[0;34m(\u001b[0m\u001b[0;34m'4. Adivinar su patronus'\u001b[0m\u001b[0;34m)\u001b[0m\u001b[0;34m\u001b[0m\u001b[0;34m\u001b[0m\u001b[0m\n\u001b[1;32m      7\u001b[0m \u001b[0;34m\u001b[0m\u001b[0m\n\u001b[0;32m----> 8\u001b[0;31m     \u001b[0meleccion\u001b[0m \u001b[0;34m=\u001b[0m \u001b[0minput\u001b[0m\u001b[0;34m(\u001b[0m\u001b[0;34m)\u001b[0m\u001b[0;34m\u001b[0m\u001b[0;34m\u001b[0m\u001b[0m\n\u001b[0m\u001b[1;32m      9\u001b[0m \u001b[0;34m\u001b[0m\u001b[0m\n\u001b[1;32m     10\u001b[0m     \u001b[0;32mwhile\u001b[0m \u001b[0meleccion\u001b[0m \u001b[0;34m<\u001b[0m \u001b[0mstr\u001b[0m\u001b[0;34m(\u001b[0m\u001b[0;36m5\u001b[0m\u001b[0;34m)\u001b[0m\u001b[0;34m:\u001b[0m\u001b[0;34m\u001b[0m\u001b[0;34m\u001b[0m\u001b[0m\n",
      "\u001b[0;32m/Library/Frameworks/Python.framework/Versions/3.8/lib/python3.8/site-packages/ipykernel/kernelbase.py\u001b[0m in \u001b[0;36mraw_input\u001b[0;34m(self, prompt)\u001b[0m\n\u001b[1;32m    854\u001b[0m                 \u001b[0;34m\"raw_input was called, but this frontend does not support input requests.\"\u001b[0m\u001b[0;34m\u001b[0m\u001b[0;34m\u001b[0m\u001b[0m\n\u001b[1;32m    855\u001b[0m             )\n\u001b[0;32m--> 856\u001b[0;31m         return self._input_request(str(prompt),\n\u001b[0m\u001b[1;32m    857\u001b[0m             \u001b[0mself\u001b[0m\u001b[0;34m.\u001b[0m\u001b[0m_parent_ident\u001b[0m\u001b[0;34m,\u001b[0m\u001b[0;34m\u001b[0m\u001b[0;34m\u001b[0m\u001b[0m\n\u001b[1;32m    858\u001b[0m             \u001b[0mself\u001b[0m\u001b[0;34m.\u001b[0m\u001b[0m_parent_header\u001b[0m\u001b[0;34m,\u001b[0m\u001b[0;34m\u001b[0m\u001b[0;34m\u001b[0m\u001b[0m\n",
      "\u001b[0;32m/Library/Frameworks/Python.framework/Versions/3.8/lib/python3.8/site-packages/ipykernel/kernelbase.py\u001b[0m in \u001b[0;36m_input_request\u001b[0;34m(self, prompt, ident, parent, password)\u001b[0m\n\u001b[1;32m    887\u001b[0m             \u001b[0;32mexcept\u001b[0m \u001b[0mKeyboardInterrupt\u001b[0m\u001b[0;34m:\u001b[0m\u001b[0;34m\u001b[0m\u001b[0;34m\u001b[0m\u001b[0m\n\u001b[1;32m    888\u001b[0m                 \u001b[0;31m# re-raise KeyboardInterrupt, to truncate traceback\u001b[0m\u001b[0;34m\u001b[0m\u001b[0;34m\u001b[0m\u001b[0;34m\u001b[0m\u001b[0m\n\u001b[0;32m--> 889\u001b[0;31m                 \u001b[0;32mraise\u001b[0m \u001b[0mKeyboardInterrupt\u001b[0m\u001b[0;34m\u001b[0m\u001b[0;34m\u001b[0m\u001b[0m\n\u001b[0m\u001b[1;32m    890\u001b[0m             \u001b[0;32melse\u001b[0m\u001b[0;34m:\u001b[0m\u001b[0;34m\u001b[0m\u001b[0;34m\u001b[0m\u001b[0m\n\u001b[1;32m    891\u001b[0m                 \u001b[0;32mbreak\u001b[0m\u001b[0;34m\u001b[0m\u001b[0;34m\u001b[0m\u001b[0m\n",
      "\u001b[0;31mKeyboardInterrupt\u001b[0m: "
     ]
    }
   ],
   "source": [
    "while guessed == False:\n",
    "    print('¿Que quieres hacer? \\n elige un número:')\n",
    "    print('1. Adivinar el personaje')\n",
    "    print('2. Adivinar su género')\n",
    "    print('3. Adivinar su casa')\n",
    "    print('4. Adivinar su patronus')\n",
    "    \n",
    "    eleccion = input()\n",
    "    \n",
    "    while eleccion < str(5):\n",
    "        if eleccion == '1':\n",
    "            adivinar_per(personajes,secret_character)\n",
    "        if eleccion == '2':\n",
    "            adivinar_genero(personajes,diccionario_personajes[secret_character]['gender'])\n",
    "        if eleccion == '3':\n",
    "            adivinar_casa(personajes,diccionario_personajes[secret_character]['casa'])\n",
    "        if eleccion == '4':\n",
    "            adivinar_patronus(personajes,diccionario_personajes[secret_character]['patronus'])\n",
    "            \n",
    "        break\n",
    "i = 1\n",
    "while i < 6:\n",
    "  print(i)\n",
    "  if i == 3:\n",
    "    break\n",
    "  i += 1"
   ]
  },
  {
   "cell_type": "code",
   "execution_count": null,
   "metadata": {},
   "outputs": [],
   "source": []
  }
 ],
 "metadata": {
  "kernelspec": {
   "display_name": "Python 3",
   "language": "python",
   "name": "python3"
  },
  "language_info": {
   "codemirror_mode": {
    "name": "ipython",
    "version": 3
   },
   "file_extension": ".py",
   "mimetype": "text/x-python",
   "name": "python",
   "nbconvert_exporter": "python",
   "pygments_lexer": "ipython3",
   "version": "3.8.3"
  }
 },
 "nbformat": 4,
 "nbformat_minor": 4
}
