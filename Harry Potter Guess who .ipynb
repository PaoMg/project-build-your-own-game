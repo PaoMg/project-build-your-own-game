{
 "cells": [
  {
   "cell_type": "code",
   "execution_count": 7,
   "metadata": {},
   "outputs": [
    {
     "name": "stdout",
     "output_type": "stream",
     "text": [
      "['Harry', 'Hermione', 'Ron', 'Dumbledore', 'Luna', 'Snape', 'Tonks', 'Lupin']\n",
      "Lupin\n"
     ]
    }
   ],
   "source": [
    "import random\n",
    "#diccionario={'a':{'casa':'6','perro':'3'},'b':{'casa':'4','perro':'0'},'c':{'casa':'4','perro':'3'}}\n",
    "\n",
    "diccionario_personajes = {\n",
    "        'Harry': {'casa':'gryffindor', 'patronus':'ciervo', 'gender':'male'},\n",
    "        'Hermione': {'casa': 'gryffindor', 'patronus': 'nutria', 'gender':'female'},\n",
    "        'Ron': {'casa': 'gryffindor', 'patronus': 'perro', 'gender':'male'},\n",
    "        'Dumbledore': {'casa': 'gryffindor', 'patronus': 'fenix', 'gender':'male'},\n",
    "        'Luna': {'casa': 'ravenclaw', 'patronus': 'liebre', 'gender': 'female'},\n",
    "        'Snape': {'casa': 'slytherin', 'patronus': 'cierva', 'gender': 'male'},\n",
    "        'Tonks': {'casa': 'hufflepuff', 'patronus': 'lobo', 'gender': 'female'},\n",
    "        'Lupin': {'casa': 'gryffindor', 'patronus': 'lobo', 'gender': 'male'}\n",
    "    \n",
    "    }\n",
    "\n",
    "personajes=list(diccionario_personajes.keys())\n",
    "print(personajes)\n",
    "\n",
    "todos_generos=['male','female']\n",
    "todas_casas=['gryffindor','slytherin','ravenclaw','hufflepuff']\n",
    "todos_patronus=['ciervo','nutria','perro','liebre','cierva','fenix','lobo']\n",
    "\n",
    "secret_character = random.choice(list(diccionario_personajes.keys()))\n",
    "print(secret_character)\n",
    "\n",
    "tries = 0\n",
    "guessed = False\n",
    "\n",
    "\n",
    "#secreto='b'"
   ]
  },
  {
   "cell_type": "code",
   "execution_count": 8,
   "metadata": {},
   "outputs": [],
   "source": [
    "def adivinar_per(personajes,secreto):\n",
    "    print('Opciones',personajes)\n",
    "    if input()==secreto:\n",
    "        print('Ganaste')\n",
    "    else:\n",
    "        print('Pierdes')"
   ]
  },
  {
   "cell_type": "code",
   "execution_count": 9,
   "metadata": {},
   "outputs": [],
   "source": [
    "def adivinar_genero(personajes,genero):\n",
    "    print('Opciones',todos_generos)\n",
    "    print('Elige el género del personaje')\n",
    "    if input()==genero:\n",
    "        print('genero correcto')\n",
    "        return print([pers for pers in personajes if diccionario_personajes[pers]['gender']==genero])\n",
    "    else:\n",
    "        print('genero incorrecto')\n",
    "        return personajes"
   ]
  },
  {
   "cell_type": "code",
   "execution_count": 10,
   "metadata": {},
   "outputs": [],
   "source": [
    "def adivinar_casa(personajes,casa):\n",
    "    print('Opciones',todas_casas)\n",
    "    print('Elige la casa del personaje')\n",
    "    if input()==casa:\n",
    "        print('Casa correcta')\n",
    "        return print([pers for pers in personajes if diccionario_personajes[pers]['casa']==casa])\n",
    "    else:\n",
    "        print('Casa erronea')\n",
    "        return personajes"
   ]
  },
  {
   "cell_type": "code",
   "execution_count": 11,
   "metadata": {},
   "outputs": [],
   "source": [
    "def adivinar_patronus(personajes,patronus):\n",
    "    print('Opciones',todos_patronus)\n",
    "    print('Elige el patronus del personaje')\n",
    "    if input()==patronus:\n",
    "        print('Patronus correcto')\n",
    "        return print([pers for pers in personajes if diccionario_personajes[pers]['patronus']==patronus])\n",
    "    else:\n",
    "        print('Patronus erroneo')\n",
    "        return personajes"
   ]
  },
  {
   "cell_type": "code",
   "execution_count": 6,
   "metadata": {
    "pycharm": {
     "name": "#%%\n"
    }
   },
   "outputs": [
    {
     "ename": "NameError",
     "evalue": "name 'guessed' is not defined",
     "output_type": "error",
     "traceback": [
      "\u001B[0;31m---------------------------------------------------------------------------\u001B[0m",
      "\u001B[0;31mNameError\u001B[0m                                 Traceback (most recent call last)",
      "\u001B[0;32m<ipython-input-6-94ac88589901>\u001B[0m in \u001B[0;36m<module>\u001B[0;34m\u001B[0m\n\u001B[0;32m----> 1\u001B[0;31m \u001B[0;32mwhile\u001B[0m \u001B[0mguessed\u001B[0m \u001B[0;34m==\u001B[0m \u001B[0;32mFalse\u001B[0m\u001B[0;34m:\u001B[0m\u001B[0;34m\u001B[0m\u001B[0;34m\u001B[0m\u001B[0m\n\u001B[0m\u001B[1;32m      2\u001B[0m     \u001B[0mprint\u001B[0m\u001B[0;34m(\u001B[0m\u001B[0;34m'¿Que quieres hacer? \\n elige un número:'\u001B[0m\u001B[0;34m)\u001B[0m\u001B[0;34m\u001B[0m\u001B[0;34m\u001B[0m\u001B[0m\n\u001B[1;32m      3\u001B[0m     \u001B[0mprint\u001B[0m\u001B[0;34m(\u001B[0m\u001B[0;34m'1. Adivinar el personaje'\u001B[0m\u001B[0;34m)\u001B[0m\u001B[0;34m\u001B[0m\u001B[0;34m\u001B[0m\u001B[0m\n\u001B[1;32m      4\u001B[0m     \u001B[0mprint\u001B[0m\u001B[0;34m(\u001B[0m\u001B[0;34m'2. Adivinar su género'\u001B[0m\u001B[0;34m)\u001B[0m\u001B[0;34m\u001B[0m\u001B[0;34m\u001B[0m\u001B[0m\n\u001B[1;32m      5\u001B[0m     \u001B[0mprint\u001B[0m\u001B[0;34m(\u001B[0m\u001B[0;34m'3. Adivinar su casa'\u001B[0m\u001B[0;34m)\u001B[0m\u001B[0;34m\u001B[0m\u001B[0;34m\u001B[0m\u001B[0m\n",
      "\u001B[0;31mNameError\u001B[0m: name 'guessed' is not defined"
     ]
    }
   ],
   "source": [
    "while guessed == False:\n",
    "    print('¿Que quieres hacer? \\n elige un número:')\n",
    "    print('1. Adivinar el personaje')\n",
    "    print('2. Adivinar su género')\n",
    "    print('3. Adivinar su casa')\n",
    "    print('4. Adivinar su patronus')\n",
    "    \n",
    "    eleccion = input()\n",
    "    \n",
    "    while eleccion < str(5):\n",
    "        if eleccion == '1':\n",
    "            adivinar_per(personajes,secret_character)\n",
    "        if eleccion == '2':\n",
    "            adivinar_genero(personajes,diccionario_personajes[secret_character]['gender'])\n",
    "        if eleccion == '3':\n",
    "            adivinar_casa(personajes,diccionario_personajes[secret_character]['casa'])\n",
    "        if eleccion == '4':\n",
    "            adivinar_patronus(personajes,diccionario_personajes[secret_character]['patronus'])\n",
    "            \n",
    "        break\n",
    "i = 1\n",
    "while i < 6:\n",
    "  print(i)\n",
    "  if i == 3:\n",
    "    break\n",
    "  i += 1\n"
   ]
  }
 ],
 "metadata": {
  "kernelspec": {
   "display_name": "Python 3",
   "language": "python",
   "name": "python3"
  },
  "language_info": {
   "codemirror_mode": {
    "name": "ipython",
    "version": 3
   },
   "file_extension": ".py",
   "mimetype": "text/x-python",
   "name": "python",
   "nbconvert_exporter": "python",
   "pygments_lexer": "ipython3",
   "version": "3.8.3"
  }
 },
 "nbformat": 4,
 "nbformat_minor": 4
}